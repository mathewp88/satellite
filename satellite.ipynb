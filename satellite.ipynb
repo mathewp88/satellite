{
 "cells": [
  {
   "cell_type": "markdown",
   "metadata": {},
   "source": [
    "# Tracking of A Circle In Free space"
   ]
  },
  {
   "cell_type": "markdown",
   "metadata": {},
   "source": [
    "## Imports"
   ]
  },
  {
   "cell_type": "code",
   "execution_count": 2,
   "metadata": {},
   "outputs": [],
   "source": [
    "%matplotlib inline\n",
    "import pandas as pd\n",
    "import matplotlib.pyplot as plt\n",
    "import numpy as np"
   ]
  },
  {
   "cell_type": "markdown",
   "metadata": {},
   "source": [
    "## Importing Timestamps"
   ]
  },
  {
   "cell_type": "code",
   "execution_count": 3,
   "metadata": {},
   "outputs": [
    {
     "name": "stdout",
     "output_type": "stream",
     "text": [
      "(array([1785, 1794, 1797, 1865, 1875, 1923, 1965]), array([1120,  859, 1146, 1110, 1199,  919,  986]))\n",
      "(array([1361, 1377, 1381, 1426, 1517, 1526, 1672]), array([1120,  859, 1146, 1110, 1199,  919,  986]))\n",
      "(array([ 839,  858,  863,  899, 1014, 1020, 1199]), array([1120,  859, 1146, 1110,  919, 1199,  986]))\n",
      "(array([361, 377, 381, 426, 517, 526, 672]), array([1120,  859, 1146, 1110, 1199,  919,  986]))\n",
      "(array([ 53,  62,  65, 133, 143, 191, 233]), array([1120,  859, 1146, 1110, 1199,  919,  986]))\n"
     ]
    }
   ],
   "source": [
    "t1 = pd.read_csv(\"t1.csv\").to_numpy()\n",
    "t2 = pd.read_csv(\"t2.csv\").to_numpy()\n",
    "t3 = pd.read_csv(\"t3.csv\").to_numpy()\n",
    "t4 = pd.read_csv(\"t4.csv\").to_numpy()\n",
    "t5 = pd.read_csv(\"t5.csv\").to_numpy()\n",
    "\n",
    "t1_points = np.nonzero(t1)\n",
    "t2_points = np.nonzero(t2)\n",
    "t3_points = np.nonzero(t3)\n",
    "t4_points = np.nonzero(t4)\n",
    "t5_points = np.nonzero(t5)\n",
    "\n",
    "print(t1_points)\n",
    "print(t2_points)\n",
    "print(t3_points)\n",
    "print(t4_points)\n",
    "print(t5_points)"
   ]
  },
  {
   "cell_type": "code",
   "execution_count": 61,
   "metadata": {},
   "outputs": [],
   "source": [
    "def fivePointsToConic(points, f=1.0):\n",
    "\n",
    "    x = points[:, 0]\n",
    "    y= points[:, 1]\n",
    "\n",
    "    from numpy.linalg import lstsq\n",
    "\n",
    "    if max(x.shape) != 5:\n",
    "        raise ValueError('Need = 5 points to solve for conic section')\n",
    "\n",
    "    A = np.vstack([x**2, x * y, y**2, x, y]).T\n",
    "    fullSolution = lstsq(A, f * np.ones(x.size))\n",
    "    (a, b, c, d, e) = fullSolution[0]\n",
    "    return (a, b, c, d, e, f)"
   ]
  },
  {
   "cell_type": "code",
   "execution_count": 5,
   "metadata": {},
   "outputs": [],
   "source": [
    "def vals(points):\n",
    "    from itertools import combinations\n",
    "    comb = np.array(list(combinations((1, 2, 3, 4, 5, 6, 7), 5))).reshape(1, -1)\n",
    "    val = np.zeros(2*(comb.size))\n",
    "    for i in range(comb.size):\n",
    "        val[2*i] = points[0][comb[0][i] - 1]\n",
    "        val[2*i+1] = points[1][comb[0][i] - 1]\n",
    "    val = val.reshape(-1, 5, 2)\n",
    "    return val\n"
   ]
  },
  {
   "cell_type": "code",
   "execution_count": 49,
   "metadata": {},
   "outputs": [],
   "source": [
    "from decimal import *\n",
    "\n",
    "def majmin(a, b, c, d, e, f):\n",
    "    is_ellipse = -1\n",
    "    major = -1\n",
    "    minor = -1\n",
    "    try: \n",
    "        major = Decimal.sqrt((Decimal(2) * ((Decimal(a) * Decimal(e)**2 - Decimal(b) * Decimal(d) * Decimal(e) + Decimal(c) * Decimal(d)**2)/(Decimal(4) * Decimal(a) * Decimal(c) - Decimal(b)**2) - Decimal(f)))/(Decimal(a) + Decimal(c) - Decimal.sqrt((Decimal(a) - Decimal(c))**2 + Decimal(b)**2)))\n",
    "    except:\n",
    "        major = -1\n",
    "    try:\n",
    "        minor = Decimal.sqrt((Decimal(2) * ((Decimal(a) * Decimal(e)**2 - Decimal(b) * Decimal(d) * Decimal(e) + Decimal(c) * Decimal(d)**2)/(Decimal(4) * Decimal(a) * Decimal(c) - Decimal(b)**2) - Decimal(f)))/(Decimal(a) + Decimal(c) + Decimal.sqrt((Decimal(a) - Decimal(c))**2 + Decimal(b)**2)))\n",
    "    except:\n",
    "        major = -1\n",
    "    if  b**2 - 4.0*a*c < 0 :\n",
    "        is_ellipse = 1\n",
    "    return(major, minor, is_ellipse)\n"
   ]
  },
  {
   "cell_type": "code",
   "execution_count": 47,
   "metadata": {},
   "outputs": [],
   "source": [
    "def ellipse(t_points):\n",
    "    NO_OF_COMBO = 21\n",
    "    points = vals(t_points)\n",
    "    eqns = np.zeros(0)\n",
    "    for i in range(NO_OF_COMBO):\n",
    "        (a, b, c, d, e, f) = (fivePointsToConic(points[0]))\n",
    "        eqns = np.append(eqns, majmin(a, b, c, d, e, f))\n",
    "    eqns = eqns.reshape( -1, 3)\n",
    "    return eqns"
   ]
  },
  {
   "cell_type": "code",
   "execution_count": 62,
   "metadata": {},
   "outputs": [
    {
     "name": "stderr",
     "output_type": "stream",
     "text": [
      "/tmp/ipykernel_12447/2551786532.py:12: FutureWarning: `rcond` parameter will change to the default of machine precision times ``max(M, N)`` where M and N are the input matrix dimensions.\n",
      "To use the future default and silence this warning we advise to pass `rcond=None`, to keep using the old, explicitly pass `rcond=-1`.\n",
      "  fullSolution = lstsq(A, f * np.ones(x.size))\n"
     ]
    },
    {
     "data": {
      "text/plain": [
       "array([[Decimal('2007.808891663078431573417108'),\n",
       "        Decimal('12410.31773367018851297101464'), 1],\n",
       "       [Decimal('2007.808891663078431573417108'),\n",
       "        Decimal('12410.31773367018851297101464'), 1],\n",
       "       [Decimal('2007.808891663078431573417108'),\n",
       "        Decimal('12410.31773367018851297101464'), 1],\n",
       "       [Decimal('2007.808891663078431573417108'),\n",
       "        Decimal('12410.31773367018851297101464'), 1],\n",
       "       [Decimal('2007.808891663078431573417108'),\n",
       "        Decimal('12410.31773367018851297101464'), 1],\n",
       "       [Decimal('2007.808891663078431573417108'),\n",
       "        Decimal('12410.31773367018851297101464'), 1],\n",
       "       [Decimal('2007.808891663078431573417108'),\n",
       "        Decimal('12410.31773367018851297101464'), 1],\n",
       "       [Decimal('2007.808891663078431573417108'),\n",
       "        Decimal('12410.31773367018851297101464'), 1],\n",
       "       [Decimal('2007.808891663078431573417108'),\n",
       "        Decimal('12410.31773367018851297101464'), 1],\n",
       "       [Decimal('2007.808891663078431573417108'),\n",
       "        Decimal('12410.31773367018851297101464'), 1],\n",
       "       [Decimal('2007.808891663078431573417108'),\n",
       "        Decimal('12410.31773367018851297101464'), 1],\n",
       "       [Decimal('2007.808891663078431573417108'),\n",
       "        Decimal('12410.31773367018851297101464'), 1],\n",
       "       [Decimal('2007.808891663078431573417108'),\n",
       "        Decimal('12410.31773367018851297101464'), 1],\n",
       "       [Decimal('2007.808891663078431573417108'),\n",
       "        Decimal('12410.31773367018851297101464'), 1],\n",
       "       [Decimal('2007.808891663078431573417108'),\n",
       "        Decimal('12410.31773367018851297101464'), 1],\n",
       "       [Decimal('2007.808891663078431573417108'),\n",
       "        Decimal('12410.31773367018851297101464'), 1],\n",
       "       [Decimal('2007.808891663078431573417108'),\n",
       "        Decimal('12410.31773367018851297101464'), 1],\n",
       "       [Decimal('2007.808891663078431573417108'),\n",
       "        Decimal('12410.31773367018851297101464'), 1],\n",
       "       [Decimal('2007.808891663078431573417108'),\n",
       "        Decimal('12410.31773367018851297101464'), 1],\n",
       "       [Decimal('2007.808891663078431573417108'),\n",
       "        Decimal('12410.31773367018851297101464'), 1],\n",
       "       [Decimal('2007.808891663078431573417108'),\n",
       "        Decimal('12410.31773367018851297101464'), 1]], dtype=object)"
      ]
     },
     "execution_count": 62,
     "metadata": {},
     "output_type": "execute_result"
    }
   ],
   "source": [
    "ellipse(t1_points)"
   ]
  }
 ],
 "metadata": {
  "interpreter": {
   "hash": "8d6851f440688cb3523603a5ed3e27a41cea2e1831cc00268c3fb4deaa90eb43"
  },
  "kernelspec": {
   "display_name": "Python 3.10.4 ('conda-env')",
   "language": "python",
   "name": "python3"
  },
  "language_info": {
   "codemirror_mode": {
    "name": "ipython",
    "version": 3
   },
   "file_extension": ".py",
   "mimetype": "text/x-python",
   "name": "python",
   "nbconvert_exporter": "python",
   "pygments_lexer": "ipython3",
   "version": "3.10.4"
  },
  "orig_nbformat": 4
 },
 "nbformat": 4,
 "nbformat_minor": 2
}
